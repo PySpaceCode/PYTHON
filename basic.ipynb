{
 "cells": [
  {
   "cell_type": "markdown",
   "metadata": {},
   "source": [
    "# BASIC PROGRAM"
   ]
  },
  {
   "cell_type": "code",
   "execution_count": 4,
   "metadata": {},
   "outputs": [
    {
     "name": "stdout",
     "output_type": "stream",
     "text": [
      "12.65748848\n",
      "<class 'str'>\n"
     ]
    }
   ],
   "source": [
    "a=input(\"enter your name\")\n",
    "print(a)\n",
    "print(type(a))"
   ]
  },
  {
   "cell_type": "code",
   "execution_count": 5,
   "metadata": {},
   "outputs": [
    {
     "name": "stdout",
     "output_type": "stream",
     "text": [
      "<class 'str'>\n"
     ]
    }
   ],
   "source": [
    "print(type(input()))"
   ]
  },
  {
   "cell_type": "code",
   "execution_count": 7,
   "metadata": {},
   "outputs": [
    {
     "name": "stdout",
     "output_type": "stream",
     "text": [
      "Hello \n",
      "<class 'NoneType'>\n"
     ]
    }
   ],
   "source": [
    "print(type(print()))"
   ]
  },
  {
   "cell_type": "code",
   "execution_count": 21,
   "metadata": {},
   "outputs": [
    {
     "name": "stdout",
     "output_type": "stream",
     "text": [
      "24\n"
     ]
    }
   ],
   "source": [
    "a=int(input(\"enter number\"))\n",
    "b=int(input(\"enter number\"))\n",
    "print(a+b)"
   ]
  },
  {
   "cell_type": "code",
   "execution_count": 11,
   "metadata": {},
   "outputs": [
    {
     "name": "stdout",
     "output_type": "stream",
     "text": [
      "<class 'int'>\n"
     ]
    }
   ],
   "source": [
    "a=10\n",
    "print(type(a))"
   ]
  },
  {
   "cell_type": "markdown",
   "metadata": {},
   "source": [
    "type - casting : According to our need we can convert our datatype\n",
    "1) inplicit type casting\n",
    "2)explicit type casting"
   ]
  },
  {
   "cell_type": "code",
   "execution_count": 23,
   "metadata": {},
   "outputs": [
    {
     "name": "stdout",
     "output_type": "stream",
     "text": [
      "24\n"
     ]
    }
   ],
   "source": [
    "###Inplicit\n",
    "#addition of a two number\n",
    "a=input(\"enter your number\")\n",
    "b=input(\"enter your number\")\n",
    "c=int(a)\n",
    "d=int(b)\n",
    "print(c+d)"
   ]
  },
  {
   "cell_type": "code",
   "execution_count": 4,
   "metadata": {},
   "outputs": [
    {
     "name": "stdout",
     "output_type": "stream",
     "text": [
      "24\n"
     ]
    }
   ],
   "source": [
    "#explicit\n",
    "no1=int(input(\"enter your number\"))\n",
    "no2=int(input(\"enter your number\"))\n",
    "print(no1+no2)"
   ]
  },
  {
   "cell_type": "code",
   "execution_count": 16,
   "metadata": {},
   "outputs": [
    {
     "name": "stdout",
     "output_type": "stream",
     "text": [
      "hello Adarsh\n"
     ]
    }
   ],
   "source": [
    "name=str(input(\"Enter your name\"))\n",
    "print(\"hello\",name)"
   ]
  },
  {
   "cell_type": "code",
   "execution_count": 27,
   "metadata": {},
   "outputs": [
    {
     "name": "stdout",
     "output_type": "stream",
     "text": [
      "24.3\n"
     ]
    }
   ],
   "source": [
    "no1=float(input(\"enter your number\"))\n",
    "no2=float(input(\"enter your number\"))\n",
    "print(no1+no2)"
   ]
  },
  {
   "cell_type": "markdown",
   "metadata": {},
   "source": [
    "int()<br>\n",
    "12-verify<br>\n",
    "12.9 -not verify (float)<br> \n",
    "float()<br>\n",
    "12- 12.0 =verify<br>\n",
    "12.4-verify "
   ]
  },
  {
   "cell_type": "code",
   "execution_count": 29,
   "metadata": {},
   "outputs": [
    {
     "name": "stdout",
     "output_type": "stream",
     "text": [
      "12\n"
     ]
    }
   ],
   "source": [
    "a=12.1\n",
    "print(int(a))"
   ]
  },
  {
   "cell_type": "code",
   "execution_count": 30,
   "metadata": {},
   "outputs": [
    {
     "name": "stdout",
     "output_type": "stream",
     "text": [
      "25\n"
     ]
    }
   ],
   "source": [
    "no1=eval(input(\"enter your number\"))\n",
    "no2=eval(input(\"enter your number\"))\n",
    "print(int(no1+no2))"
   ]
  },
  {
   "cell_type": "code",
   "execution_count": 18,
   "metadata": {},
   "outputs": [
    {
     "name": "stdout",
     "output_type": "stream",
     "text": [
      "my name is  Adarsh <class 'str'>\n",
      "my age is  24 <class 'int'>\n",
      "my salary is  200000.0 <class 'float'>\n",
      "my address is  lucknow <class 'str'>\n",
      "my status is  True <class 'bool'>\n"
     ]
    }
   ],
   "source": [
    "#employee data collect\n",
    "name=input(\"enter your good name\")\n",
    "age=int(input(\"enter your age\"))\n",
    "salary=float(input(\"enter your salary\"))\n",
    "address=input(\"enter your address\")\n",
    "Martial_status=bool(input(\"enter your martial status\"))\n",
    "print(\"my name is \",name,type(name))\n",
    "print(\"my age is \",age,type(age))\n",
    "print(\"my salary is \",salary,type(salary))\n",
    "print(\"my address is \",address,type(address))\n",
    "print(\"my status is \",Martial_status,type(Martial_status))"
   ]
  },
  {
   "cell_type": "code",
   "execution_count": 21,
   "metadata": {},
   "outputs": [
    {
     "name": "stdout",
     "output_type": "stream",
     "text": [
      "my name is  adarsh tiwari my age is 24\n",
      "my name is adarsh tiwarimy age is 24\n"
     ]
    }
   ],
   "source": [
    "name=input(\"enter your name\")\n",
    "age=int(input(\"enter your cuurent age\"))\n",
    "print(\"my name is \",name ,\"my age is\",age ) \n",
    "print(\"my name is \"+ name +\"my age is\",age )"
   ]
  },
  {
   "cell_type": "markdown",
   "metadata": {},
   "source": [
    "Basic operator\n",
    "1) arithicmatic operator\n",
    "2) assignment operator\n",
    "3) comparison"
   ]
  },
  {
   "cell_type": "code",
   "execution_count": 3,
   "metadata": {},
   "outputs": [
    {
     "name": "stdout",
     "output_type": "stream",
     "text": [
      "12\n",
      "8\n",
      "20\n",
      "5.0\n",
      "0\n",
      "100\n",
      "5\n"
     ]
    }
   ],
   "source": [
    "#1) example\n",
    "a=10\n",
    "b=2\n",
    "print(a+b)\n",
    "print(a-b)\n",
    "print(a*b)\n",
    "print(a/b)#decimal\n",
    "print(a%b)#remainder\n",
    "print(a**b)\n",
    "print(a//b)#last pointing value"
   ]
  },
  {
   "cell_type": "code",
   "execution_count": 10,
   "metadata": {},
   "outputs": [
    {
     "name": "stdout",
     "output_type": "stream",
     "text": [
      "10\n",
      "10\n"
     ]
    }
   ],
   "source": [
    "# 2) Assignment operator\n",
    "a=5\n",
    "b=10\n",
    "a=b\n",
    "b=a\n",
    "print(a)\n",
    "print(b)\n",
    "#a=a+10\n"
   ]
  },
  {
   "cell_type": "code",
   "execution_count": 35,
   "metadata": {},
   "outputs": [
    {
     "ename": "NameError",
     "evalue": "name 'k' is not defined",
     "output_type": "error",
     "traceback": [
      "\u001b[1;31m---------------------------------------------------------------------------\u001b[0m",
      "\u001b[1;31mNameError\u001b[0m                                 Traceback (most recent call last)",
      "Cell \u001b[1;32mIn[35], line 1\u001b[0m\n\u001b[1;32m----> 1\u001b[0m \u001b[38;5;28mprint\u001b[39m(\u001b[43mk\u001b[49m \u001b[38;5;241m+\u001b[39m\u001b[38;5;124m\"\u001b[39m\u001b[38;5;124mshaheen\u001b[39m\u001b[38;5;124m\"\u001b[39m)\n",
      "\u001b[1;31mNameError\u001b[0m: name 'k' is not defined"
     ]
    }
   ],
   "source": [
    "print(k +\"shaheen\")"
   ]
  },
  {
   "cell_type": "code",
   "execution_count": 43,
   "metadata": {},
   "outputs": [
    {
     "name": "stdout",
     "output_type": "stream",
     "text": [
      "18\n"
     ]
    }
   ],
   "source": [
    "a=a+2\n",
    "b+=2-b=b+2\n",
    "print(a+2)"
   ]
  },
  {
   "cell_type": "markdown",
   "metadata": {},
   "source": [
    "**Identity Operators**:\n"
   ]
  },
  {
   "cell_type": "code",
   "execution_count": 48,
   "metadata": {},
   "outputs": [
    {
     "name": "stdout",
     "output_type": "stream",
     "text": [
      "False\n"
     ]
    }
   ],
   "source": [
    "j=12\n",
    "print(j != 12)\n"
   ]
  },
  {
   "cell_type": "code",
   "execution_count": 14,
   "metadata": {},
   "outputs": [
    {
     "name": "stdout",
     "output_type": "stream",
     "text": [
      "10\n",
      "6\n",
      "60\n",
      "6.0\n"
     ]
    }
   ],
   "source": [
    "x=5\n",
    "y=4\n",
    "x+=5\n",
    "print(x)\n",
    "x-=4\n",
    "print(x)\n",
    "x*=10\n",
    "print(x)\n",
    "x/=10\n",
    "print(x)"
   ]
  },
  {
   "cell_type": "markdown",
   "metadata": {},
   "source": [
    "# comparison operator"
   ]
  },
  {
   "cell_type": "code",
   "execution_count": 20,
   "metadata": {},
   "outputs": [
    {
     "name": "stdout",
     "output_type": "stream",
     "text": [
      "False\n",
      "True\n",
      "False\n",
      "True\n",
      "False\n",
      "True\n"
     ]
    }
   ],
   "source": [
    "p=20\n",
    "q=10\n",
    "print(p==q)# return boolean value\n",
    "print(p>q)\n",
    "print(p<q)\n",
    "print(p!=q)\n",
    "print(p<=q)\n",
    "print(p>=q)"
   ]
  },
  {
   "cell_type": "markdown",
   "metadata": {},
   "source": [
    "# Logical operator\n"
   ]
  },
  {
   "cell_type": "code",
   "execution_count": 24,
   "metadata": {},
   "outputs": [
    {
     "name": "stdout",
     "output_type": "stream",
     "text": [
      "False\n",
      "True\n",
      "True\n"
     ]
    }
   ],
   "source": [
    "a=10\n",
    "b=5\n",
    "print(a==b and a!=b) #gives always first\n",
    "print(a==b or a!=b) # gives always last\n",
    "print(a !=b)"
   ]
  },
  {
   "cell_type": "markdown",
   "metadata": {},
   "source": [
    "# Identity operator -is , is not\n",
    "\n"
   ]
  },
  {
   "cell_type": "code",
   "execution_count": 25,
   "metadata": {},
   "outputs": [
    {
     "name": "stdout",
     "output_type": "stream",
     "text": [
      "False\n",
      "True\n"
     ]
    }
   ],
   "source": [
    "s=10\n",
    "d=20\n",
    "print(s is d) #==\n",
    "print(s is not d) #!="
   ]
  },
  {
   "cell_type": "markdown",
   "metadata": {},
   "source": [
    "# Member ship operator\n",
    "in \n",
    "not in"
   ]
  },
  {
   "cell_type": "code",
   "execution_count": 49,
   "metadata": {},
   "outputs": [
    {
     "name": "stdout",
     "output_type": "stream",
     "text": [
      "True\n",
      "False\n",
      "False\n",
      "True\n"
     ]
    }
   ],
   "source": [
    "a=[10,20,30,40]\n",
    "print(10 in a)\n",
    "print(100 in a)\n",
    "print(10 not in a)\n",
    "print(100 not in a)\n"
   ]
  },
  {
   "cell_type": "markdown",
   "metadata": {},
   "source": [
    "# unary operator\n",
    "i++\n",
    "i--"
   ]
  },
  {
   "cell_type": "code",
   "execution_count": 32,
   "metadata": {},
   "outputs": [
    {
     "name": "stdout",
     "output_type": "stream",
     "text": [
      "101\n",
      "201\n"
     ]
    }
   ],
   "source": [
    "a=100\n",
    "b=200\n",
    "a=a+1 # a++\n",
    "b=b+1 #b++\n",
    "print(a)\n",
    "print(b)\n",
    "\n"
   ]
  },
  {
   "cell_type": "code",
   "execution_count": 63,
   "metadata": {},
   "outputs": [
    {
     "ename": "NameError",
     "evalue": "name 'o' is not defined",
     "output_type": "error",
     "traceback": [
      "\u001b[1;31m---------------------------------------------------------------------------\u001b[0m",
      "\u001b[1;31mNameError\u001b[0m                                 Traceback (most recent call last)",
      "Cell \u001b[1;32mIn[63], line 2\u001b[0m\n\u001b[0;32m      1\u001b[0m p\u001b[38;5;241m=\u001b[39m\u001b[38;5;241m12\u001b[39m\n\u001b[1;32m----> 2\u001b[0m \u001b[38;5;28mprint\u001b[39m(\u001b[43mo\u001b[49m\u001b[38;5;241m+\u001b[39mp)\n\u001b[0;32m      3\u001b[0m o\u001b[38;5;241m=\u001b[39m\u001b[38;5;241m10\u001b[39m\n",
      "\u001b[1;31mNameError\u001b[0m: name 'o' is not defined"
     ]
    }
   ],
   "source": [
    "p=12\n",
    "print(o+p)\n",
    "o=10\n"
   ]
  },
  {
   "cell_type": "code",
   "execution_count": 66,
   "metadata": {},
   "outputs": [
    {
     "name": "stdout",
     "output_type": "stream",
     "text": [
      "execution not done\n"
     ]
    }
   ],
   "source": [
    "n=12\n",
    "if n==10:\n",
    "    print(\"execution done\")\n",
    "print(\"execution not done\")"
   ]
  },
  {
   "cell_type": "code",
   "execution_count": 68,
   "metadata": {},
   "outputs": [
    {
     "name": "stdout",
     "output_type": "stream",
     "text": [
      "execution done\n"
     ]
    }
   ],
   "source": [
    "n=12\n",
    "if n==12:\n",
    "    print(\"execution done\")\n",
    "else:\n",
    " print(\"execution not done\")"
   ]
  },
  {
   "cell_type": "markdown",
   "metadata": {},
   "source": [
    "# Control flow\n",
    "Control Flow-To control the execution of the program\n",
    "1) conditional statement ex-if, if-else, if-elif-else\n",
    "2) Loop statement-for , while\n",
    "3) Iteration statement -break, continue, pass\n"
   ]
  },
  {
   "cell_type": "code",
   "execution_count": 70,
   "metadata": {},
   "outputs": [],
   "source": [
    "name=input(\"enter your name\")\n",
    "if name==\"shaheen\" :\n",
    "    print(\"Name is correct\")\n",
    "    "
   ]
  },
  {
   "cell_type": "markdown",
   "metadata": {},
   "source": [
    "# wap to get a number and check it is even or odd\n"
   ]
  },
  {
   "cell_type": "code",
   "execution_count": 71,
   "metadata": {},
   "outputs": [
    {
     "name": "stdout",
     "output_type": "stream",
     "text": [
      "number is even 12\n"
     ]
    }
   ],
   "source": [
    "n=int(input(\"enter your number\"))\n",
    "if n%2==0:\n",
    "    print(\"number is even\",n)\n",
    "else:\n",
    "    print(\"number is odd\",n)\n"
   ]
  },
  {
   "cell_type": "markdown",
   "metadata": {},
   "source": [
    "# wap to check person is eligible for vote or not"
   ]
  },
  {
   "cell_type": "code",
   "execution_count": 72,
   "metadata": {},
   "outputs": [
    {
     "name": "stdout",
     "output_type": "stream",
     "text": [
      "not eligible\n"
     ]
    }
   ],
   "source": [
    "age=int(input(\"enter your age\"))\n",
    "if age>=18:\n",
    "    print(\"person is eligible\")\n",
    "else:\n",
    "    print(\"not eligible\")"
   ]
  },
  {
   "cell_type": "markdown",
   "metadata": {},
   "source": [
    "# # why we are using else"
   ]
  },
  {
   "cell_type": "code",
   "execution_count": 13,
   "metadata": {},
   "outputs": [
    {
     "name": "stdout",
     "output_type": "stream",
     "text": [
      "number is match\n"
     ]
    }
   ],
   "source": [
    "n=12\n",
    "if n==12:\n",
    "    print(\"number is match\")\n",
    "else:\n",
    "  print(\"number is not match\")"
   ]
  },
  {
   "cell_type": "markdown",
   "metadata": {},
   "source": [
    "# do the sum of two number in a one line\n"
   ]
  },
  {
   "cell_type": "code",
   "execution_count": 8,
   "metadata": {},
   "outputs": [
    {
     "name": "stdout",
     "output_type": "stream",
     "text": [
      "24\n"
     ]
    }
   ],
   "source": [
    "\n",
    "print(int(input(\"enter your first number\"))+int(input(\"enter your second number\")))"
   ]
  },
  {
   "cell_type": "code",
   "execution_count": 18,
   "metadata": {},
   "outputs": [
    {
     "name": "stdout",
     "output_type": "stream",
     "text": [
      "you enter in incoorect manner\n"
     ]
    }
   ],
   "source": [
    "day=input(\"enter your day\")\n",
    "if day==\"Monday\":\n",
    "    print(\"today is monday\")\n",
    "elif day==\"Tuesday\":\n",
    "    print(\"today is Tuesday\")\n",
    "elif day==\"Wednesday\":\n",
    "    print(\"today is Wednesday\")\n",
    "elif day==\"Thursday\":\n",
    "    print(\"today is Thursday\")\n",
    "elif day==\"Friday\":\n",
    "    print(\"today is Friday\")\n",
    "elif day==\"Saturday\":\n",
    "    print(\"today is Saturday\")\n",
    "elif day==\"Sunday\":\n",
    "    print(\"sunday is there holiday\")\n",
    "else:\n",
    "    print(\"you enter in incorrect manner\")\n",
    "\n",
    "\n",
    "\n"
   ]
  },
  {
   "cell_type": "code",
   "execution_count": 19,
   "metadata": {},
   "outputs": [
    {
     "name": "stdout",
     "output_type": "stream",
     "text": [
      "14 is largest\n"
     ]
    }
   ],
   "source": [
    "a=12\n",
    "b=13\n",
    "c=14\n",
    "if a>b and a>c:\n",
    "    print(a,\"is largest\")\n",
    "elif b>a and b>c:\n",
    "    print(b,\"is largest\")\n",
    "else:\n",
    "    print(c,\"is largest\")"
   ]
  },
  {
   "cell_type": "code",
   "execution_count": 1,
   "metadata": {},
   "outputs": [
    {
     "name": "stdout",
     "output_type": "stream",
     "text": [
      "14 is largest\n"
     ]
    }
   ],
   "source": [
    "a=12\n",
    "b=13\n",
    "c=14\n",
    "if a>b :\n",
    "    print(a,\"is largest\")\n",
    "elif a>c:\n",
    "    print(a, \"is largest\")\n",
    "elif b>a and b>c:\n",
    "    print(b,\"is largest\")\n",
    "else:\n",
    "    print(c,\"is largest\")"
   ]
  },
  {
   "cell_type": "markdown",
   "metadata": {},
   "source": [
    "# looping statement :\n",
    "python\n",
    "'''1- For loop - for loop works until the ondition become True\n",
    "syntax-\n",
    "\n",
    "\n",
    "\n",
    "sequence=\"Shaheen\"\n",
    "for i in sequence:\n",
    "    print(i)\n",
    "\n",
    "2- While loop - while loop works until condition become False'''"
   ]
  },
  {
   "cell_type": "code",
   "execution_count": 1,
   "metadata": {},
   "outputs": [
    {
     "name": "stdout",
     "output_type": "stream",
     "text": [
      "A\n",
      "B\n",
      "C\n"
     ]
    }
   ],
   "source": [
    "seq=\"ABC\"\n",
    "for i in seq:\n",
    "    print(i)"
   ]
  },
  {
   "cell_type": "code",
   "execution_count": 6,
   "metadata": {},
   "outputs": [
    {
     "name": "stdout",
     "output_type": "stream",
     "text": [
      "index is  0 value is A\n",
      "index is  1 value is +\n",
      "index is  2 value is B\n",
      "index is  3 value is +\n",
      "index is  4 value is c\n"
     ]
    }
   ],
   "source": [
    "c=\"A+B+c\" \n",
    "m=0\n",
    "for i in c:\n",
    "    print(\"index is \",m,\"value is\",i)\n",
    "    m=m+1"
   ]
  },
  {
   "cell_type": "markdown",
   "metadata": {},
   "source": [
    "Python Range function -<br/> digit -(0,9) length-10\n",
    "<br/>\n",
    "```python\n",
    "by default increment always of 1 \n",
    "```First type range function <br/>\n",
    "format range(n) - n is the length  work-staring (0) but ending(n-1) <br/>\n",
    "format 2 range(m,n) - m is starting index ,n is ending index <br/>\n",
    "format 3 range(m,n,incre/decre) , m is start , n is end , incre - i+1 , decre-i-1 <br/>\n",
    "range(starting index , ending index)<br/>\n",
    "length(15) - range(0,14) "
   ]
  },
  {
   "cell_type": "code",
   "execution_count": 3,
   "metadata": {},
   "outputs": [
    {
     "name": "stdout",
     "output_type": "stream",
     "text": [
      "2\n"
     ]
    }
   ],
   "source": [
    "for i in range(2,3):\n",
    "    print(i)"
   ]
  },
  {
   "cell_type": "code",
   "execution_count": null,
   "metadata": {},
   "outputs": [
    {
     "name": "stdout",
     "output_type": "stream",
     "text": [
      "0 1 2 3 4 5 6 7 8 9 10 11 12 13 14 "
     ]
    }
   ],
   "source": [
    "for i in range(15):\n",
    "    print(i,end=\" \")"
   ]
  },
  {
   "cell_type": "code",
   "execution_count": 9,
   "metadata": {},
   "outputs": [
    {
     "name": "stdout",
     "output_type": "stream",
     "text": [
      "0 1 2 3 4 5 6 7 8 9 10 11 12 13 14 15 16 17 18 19 20 21 "
     ]
    }
   ],
   "source": [
    "for i in range(22):\n",
    "    print(i,end=\" \")"
   ]
  },
  {
   "cell_type": "code",
   "execution_count": 10,
   "metadata": {},
   "outputs": [
    {
     "name": "stdout",
     "output_type": "stream",
     "text": [
      "1 2 3 4 5 6 7 8 9 10 11 12 13 14 15 16 17 18 19 20 "
     ]
    }
   ],
   "source": [
    "for i in range(1,21):\n",
    "    print(i,end=\" \")"
   ]
  },
  {
   "cell_type": "code",
   "execution_count": 11,
   "metadata": {},
   "outputs": [
    {
     "name": "stdout",
     "output_type": "stream",
     "text": [
      "1 2 3 4 5 6 7 8 9 10 11 12 13 14 15 16 17 18 19 20 21 22 23 24 25 26 27 28 29 30 31 32 33 34 35 36 37 38 39 40 41 42 43 44 45 46 47 48 49 50 "
     ]
    }
   ],
   "source": [
    "for i in range(1,51):\n",
    "    print(i,end=\" \")"
   ]
  },
  {
   "cell_type": "code",
   "execution_count": 12,
   "metadata": {},
   "outputs": [
    {
     "name": "stdout",
     "output_type": "stream",
     "text": [
      "1 3 5 7 9 11 13 15 17 19 21 23 25 27 29 31 33 35 37 39 41 43 45 47 49 "
     ]
    }
   ],
   "source": [
    "for i in range(1,51,2):\n",
    "    print(i,end=\" \")"
   ]
  },
  {
   "cell_type": "code",
   "execution_count": 14,
   "metadata": {},
   "outputs": [
    {
     "name": "stdout",
     "output_type": "stream",
     "text": [
      "2 4 6 8 10 12 14 16 18 20 22 24 26 28 30 32 34 36 38 40 42 44 46 48 50 "
     ]
    }
   ],
   "source": [
    "for i in range(2,51,2):\n",
    "    print(i,end=\" \")"
   ]
  },
  {
   "cell_type": "code",
   "execution_count": 15,
   "metadata": {},
   "outputs": [
    {
     "name": "stdout",
     "output_type": "stream",
     "text": [
      "5 10 15 20 25 30 35 40 45 50 "
     ]
    }
   ],
   "source": [
    "for i in range(5,51,5):\n",
    "    print(i,end=\" \")"
   ]
  },
  {
   "cell_type": "code",
   "execution_count": 16,
   "metadata": {},
   "outputs": [
    {
     "name": "stdout",
     "output_type": "stream",
     "text": [
      "5 6 7 8 9 10 11 12 13 14 15 16 17 18 19 20 21 22 23 24 25 26 27 28 29 30 31 32 33 34 35 36 37 38 39 40 41 42 43 44 45 46 47 48 49 "
     ]
    }
   ],
   "source": [
    "for i in range(5,50):\n",
    "    print(i,end=\" \")"
   ]
  },
  {
   "cell_type": "code",
   "execution_count": 21,
   "metadata": {},
   "outputs": [
    {
     "name": "stdout",
     "output_type": "stream",
     "text": [
      "5 * 1 = 5\n",
      "5 * 2 = 10\n",
      "5 * 3 = 15\n",
      "5 * 4 = 20\n",
      "5 * 5 = 25\n",
      "5 * 6 = 30\n",
      "5 * 7 = 35\n",
      "5 * 8 = 40\n",
      "5 * 9 = 45\n",
      "5 * 10 = 50\n"
     ]
    }
   ],
   "source": [
    "n=5\n",
    "for j in range(1,11):\n",
    "    print(n,\"*\",j,\"=\",n*j)"
   ]
  },
  {
   "cell_type": "markdown",
   "metadata": {},
   "source": [
    "n=3\n",
    "enter your number\n",
    "enter your number\n",
    "enter your number\n",
    "\n",
    "n=5\n",
    "enter your number-3 table\n",
    "enter your number-5\n",
    "enter your number-7\n",
    "enter your number-8\n",
    "enter your number-9\n"
   ]
  },
  {
   "cell_type": "code",
   "execution_count": 14,
   "metadata": {},
   "outputs": [
    {
     "name": "stdout",
     "output_type": "stream",
     "text": [
      "11 * 1 = 11\n",
      "11 * 2 = 22\n",
      "11 * 3 = 33\n",
      "11 * 4 = 44\n",
      "11 * 5 = 55\n",
      "11 * 6 = 66\n",
      "11 * 7 = 77\n",
      "11 * 8 = 88\n",
      "11 * 9 = 99\n",
      "11 * 10 = 110\n",
      "11 * 1 = 11\n",
      "11 * 2 = 22\n",
      "11 * 3 = 33\n",
      "11 * 4 = 44\n",
      "11 * 5 = 55\n",
      "11 * 6 = 66\n",
      "11 * 7 = 77\n",
      "11 * 8 = 88\n",
      "11 * 9 = 99\n",
      "11 * 10 = 110\n",
      "11 * 1 = 11\n",
      "11 * 2 = 22\n",
      "11 * 3 = 33\n",
      "11 * 4 = 44\n",
      "11 * 5 = 55\n",
      "11 * 6 = 66\n",
      "11 * 7 = 77\n",
      "11 * 8 = 88\n",
      "11 * 9 = 99\n",
      "11 * 10 = 110\n",
      "12 * 1 = 12\n",
      "12 * 2 = 24\n",
      "12 * 3 = 36\n",
      "12 * 4 = 48\n",
      "12 * 5 = 60\n",
      "12 * 6 = 72\n",
      "12 * 7 = 84\n",
      "12 * 8 = 96\n",
      "12 * 9 = 108\n",
      "12 * 10 = 120\n",
      "12 * 1 = 12\n",
      "12 * 2 = 24\n",
      "12 * 3 = 36\n",
      "12 * 4 = 48\n",
      "12 * 5 = 60\n",
      "12 * 6 = 72\n",
      "12 * 7 = 84\n",
      "12 * 8 = 96\n",
      "12 * 9 = 108\n",
      "12 * 10 = 120\n",
      "3 * 1 = 3\n",
      "3 * 2 = 6\n",
      "3 * 3 = 9\n",
      "3 * 4 = 12\n",
      "3 * 5 = 15\n",
      "3 * 6 = 18\n",
      "3 * 7 = 21\n",
      "3 * 8 = 24\n",
      "3 * 9 = 27\n",
      "3 * 10 = 30\n",
      "4 * 1 = 4\n",
      "4 * 2 = 8\n",
      "4 * 3 = 12\n",
      "4 * 4 = 16\n",
      "4 * 5 = 20\n",
      "4 * 6 = 24\n",
      "4 * 7 = 28\n",
      "4 * 8 = 32\n",
      "4 * 9 = 36\n",
      "4 * 10 = 40\n",
      "5 * 1 = 5\n",
      "5 * 2 = 10\n",
      "5 * 3 = 15\n",
      "5 * 4 = 20\n",
      "5 * 5 = 25\n",
      "5 * 6 = 30\n",
      "5 * 7 = 35\n",
      "5 * 8 = 40\n",
      "5 * 9 = 45\n",
      "5 * 10 = 50\n",
      "6 * 1 = 6\n",
      "6 * 2 = 12\n",
      "6 * 3 = 18\n",
      "6 * 4 = 24\n",
      "6 * 5 = 30\n",
      "6 * 6 = 36\n",
      "6 * 7 = 42\n",
      "6 * 8 = 48\n",
      "6 * 9 = 54\n",
      "6 * 10 = 60\n",
      "1 * 1 = 1\n",
      "1 * 2 = 2\n",
      "1 * 3 = 3\n",
      "1 * 4 = 4\n",
      "1 * 5 = 5\n",
      "1 * 6 = 6\n",
      "1 * 7 = 7\n",
      "1 * 8 = 8\n",
      "1 * 9 = 9\n",
      "1 * 10 = 10\n",
      "41 * 1 = 41\n",
      "41 * 2 = 82\n",
      "41 * 3 = 123\n",
      "41 * 4 = 164\n",
      "41 * 5 = 205\n",
      "41 * 6 = 246\n",
      "41 * 7 = 287\n",
      "41 * 8 = 328\n",
      "41 * 9 = 369\n",
      "41 * 10 = 410\n",
      "12 * 1 = 12\n",
      "12 * 2 = 24\n",
      "12 * 3 = 36\n",
      "12 * 4 = 48\n",
      "12 * 5 = 60\n",
      "12 * 6 = 72\n",
      "12 * 7 = 84\n",
      "12 * 8 = 96\n",
      "12 * 9 = 108\n",
      "12 * 10 = 120\n",
      "12 * 1 = 12\n",
      "12 * 2 = 24\n",
      "12 * 3 = 36\n",
      "12 * 4 = 48\n",
      "12 * 5 = 60\n",
      "12 * 6 = 72\n",
      "12 * 7 = 84\n",
      "12 * 8 = 96\n",
      "12 * 9 = 108\n",
      "12 * 10 = 120\n",
      "12 * 1 = 12\n",
      "12 * 2 = 24\n",
      "12 * 3 = 36\n",
      "12 * 4 = 48\n",
      "12 * 5 = 60\n",
      "12 * 6 = 72\n",
      "12 * 7 = 84\n",
      "12 * 8 = 96\n",
      "12 * 9 = 108\n",
      "12 * 10 = 120\n",
      " "
     ]
    }
   ],
   "source": [
    "n=int(input(\"enter your choice\"))\n",
    "for i in range(n):\n",
    "    m=int(input(\"enter your number for table\"))\n",
    "    for j in range(1,11):\n",
    "     print(m,\"*\",j,\"=\",m*j)\n",
    "print(end=\" \")\n",
    "    "
   ]
  },
  {
   "cell_type": "code",
   "execution_count": 20,
   "metadata": {},
   "outputs": [
    {
     "name": "stdout",
     "output_type": "stream",
     "text": [
      "prime number\n"
     ]
    }
   ],
   "source": [
    "n=int(input(\"enter your number\"))\n",
    "k=0\n",
    "for i in range(1,n+1):\n",
    "    if n%i==0:\n",
    "        k=k+1\n",
    "if k==2:\n",
    "    print(\"prime number\")\n",
    "else:\n",
    "    print(\"not prime\")    "
   ]
  },
  {
   "cell_type": "markdown",
   "metadata": {},
   "source": [
    "# Pattern programs\n"
   ]
  },
  {
   "cell_type": "code",
   "execution_count": 21,
   "metadata": {},
   "outputs": [
    {
     "name": "stdout",
     "output_type": "stream",
     "text": [
      "\n",
      "A\n",
      "AA\n"
     ]
    }
   ],
   "source": [
    "for i in range(3):\n",
    "    print(i*\"A\")"
   ]
  },
  {
   "cell_type": "code",
   "execution_count": 24,
   "metadata": {},
   "outputs": [
    {
     "name": "stdout",
     "output_type": "stream",
     "text": [
      "####\n",
      "####\n",
      "####\n"
     ]
    }
   ],
   "source": [
    "for i in range(3):\n",
    "    print(4*\"#\")"
   ]
  },
  {
   "cell_type": "code",
   "execution_count": 25,
   "metadata": {},
   "outputs": [
    {
     "name": "stdout",
     "output_type": "stream",
     "text": [
      "AA\n",
      "AA\n",
      "AA\n"
     ]
    }
   ],
   "source": [
    "for i in range(3):\n",
    "    print(2*\"A\")"
   ]
  },
  {
   "cell_type": "code",
   "execution_count": 26,
   "metadata": {},
   "outputs": [
    {
     "name": "stdout",
     "output_type": "stream",
     "text": [
      "4444\n",
      "4444\n",
      "4444\n"
     ]
    }
   ],
   "source": [
    "for i in range(3):\n",
    "    print(4*\"4\")"
   ]
  },
  {
   "cell_type": "code",
   "execution_count": 27,
   "metadata": {},
   "outputs": [
    {
     "name": "stdout",
     "output_type": "stream",
     "text": [
      "16\n",
      "16\n",
      "16\n"
     ]
    }
   ],
   "source": [
    "for i in range(3):\n",
    "    print(4*4)"
   ]
  },
  {
   "cell_type": "code",
   "execution_count": 36,
   "metadata": {},
   "outputs": [
    {
     "name": "stdout",
     "output_type": "stream",
     "text": [
      "*\n",
      "**\n",
      "***\n"
     ]
    }
   ],
   "source": [
    "for i in range(3):\n",
    "    print((i+1)*\"*\")"
   ]
  },
  {
   "cell_type": "code",
   "execution_count": 40,
   "metadata": {},
   "outputs": [
    {
     "name": "stdout",
     "output_type": "stream",
     "text": [
      " *\n",
      " * *\n",
      " * * *\n",
      " * * * *\n",
      " * * * * *\n"
     ]
    }
   ],
   "source": [
    "for i in range(5):\n",
    "    print((i+1)*\" *\")"
   ]
  },
  {
   "cell_type": "code",
   "execution_count": 41,
   "metadata": {},
   "outputs": [
    {
     "name": "stdout",
     "output_type": "stream",
     "text": [
      "* \n",
      "* * \n",
      "* * * \n",
      "* * * * \n",
      "* * * * * \n",
      "* * * * * * \n",
      "* * * * * * * \n"
     ]
    }
   ],
   "source": [
    "for i in range(7):\n",
    "    print((i+1)*\"* \")"
   ]
  },
  {
   "cell_type": "markdown",
   "metadata": {},
   "source": [
    "#\n",
    "##\n",
    "###\n",
    "####\n",
    "#####"
   ]
  },
  {
   "cell_type": "code",
   "execution_count": 3,
   "metadata": {},
   "outputs": [
    {
     "name": "stdout",
     "output_type": "stream",
     "text": [
      "#      \n",
      "##     \n",
      "###    \n",
      "####   \n",
      "#####  \n"
     ]
    }
   ],
   "source": [
    "for i in range(5):\n",
    "    print((i+1)*\"#\",(5-i)*\" \")"
   ]
  },
  {
   "cell_type": "code",
   "execution_count": 5,
   "metadata": {},
   "outputs": [
    {
     "name": "stdout",
     "output_type": "stream",
     "text": [
      "#           \n",
      "##          \n",
      "###         \n",
      "####        \n",
      "#####       \n",
      "######      \n",
      "#######     \n",
      "########    \n",
      "#########   \n",
      "##########  \n"
     ]
    }
   ],
   "source": [
    "for i in range(10):\n",
    "    print((i+1)*\"#\",(10-i)*' ')"
   ]
  },
  {
   "cell_type": "code",
   "execution_count": 28,
   "metadata": {},
   "outputs": [
    {
     "name": "stdout",
     "output_type": "stream",
     "text": [
      "sssss#####\n",
      "ssss####\n",
      "sss###\n",
      "ss##\n",
      "s#\n"
     ]
    }
   ],
   "source": [
    "for i in range(5):\n",
    "    print((5-i)*\"s\"+(5-i)*\"#\")"
   ]
  },
  {
   "cell_type": "code",
   "execution_count": 29,
   "metadata": {},
   "outputs": [
    {
     "name": "stdout",
     "output_type": "stream",
     "text": [
      "shaheen shaheen 22\n",
      "shaheenshaheen22\n"
     ]
    }
   ],
   "source": [
    "# ,\n",
    "# +\n",
    "print(\"shaheen\",\"shaheen\",\"22\")\n",
    "print(\"shaheen\"+\"shaheen\"+\"22\")"
   ]
  },
  {
   "cell_type": "code",
   "execution_count": null,
   "metadata": {},
   "outputs": [],
   "source": [
    "1\n",
    "11\n",
    "111\n",
    "1111\n",
    "11111"
   ]
  },
  {
   "cell_type": "code",
   "execution_count": 30,
   "metadata": {},
   "outputs": [
    {
     "name": "stdout",
     "output_type": "stream",
     "text": [
      "1\n",
      "11\n",
      "111\n",
      "1111\n",
      "11111\n"
     ]
    }
   ],
   "source": [
    "for i in range(5):\n",
    "    print((i+1)*\"1\")"
   ]
  },
  {
   "cell_type": "code",
   "execution_count": 31,
   "metadata": {},
   "outputs": [
    {
     "name": "stdout",
     "output_type": "stream",
     "text": [
      "2\n",
      "22\n",
      "222\n",
      "2222\n",
      "22222\n"
     ]
    }
   ],
   "source": [
    "for i in range(5):\n",
    "    print((i+1)*\"2\")"
   ]
  },
  {
   "cell_type": "code",
   "execution_count": null,
   "metadata": {},
   "outputs": [],
   "source": [
    "##### \n",
    "#### \n",
    "### \n",
    "## \n",
    "# "
   ]
  },
  {
   "cell_type": "code",
   "execution_count": 35,
   "metadata": {},
   "outputs": [
    {
     "name": "stdout",
     "output_type": "stream",
     "text": [
      "#####\n",
      "####\n",
      "###\n",
      "##\n",
      "#\n"
     ]
    }
   ],
   "source": [
    "for i in range(5):\n",
    "    print((5-i)*\"#\"+(i+1)*\"\")"
   ]
  },
  {
   "cell_type": "code",
   "execution_count": null,
   "metadata": {},
   "outputs": [],
   "source": [
    "     #\n",
    "    ##\n",
    "   ###\n",
    "  ####\n",
    " #####"
   ]
  },
  {
   "cell_type": "code",
   "execution_count": 38,
   "metadata": {},
   "outputs": [
    {
     "name": "stdout",
     "output_type": "stream",
     "text": [
      "     #\n",
      "    ##\n",
      "   ###\n",
      "  ####\n",
      " #####\n"
     ]
    }
   ],
   "source": [
    "for i in range(5):\n",
    "    print((5-i)*\" \"+(i+1)*\"#\")"
   ]
  },
  {
   "cell_type": "code",
   "execution_count": null,
   "metadata": {},
   "outputs": [],
   "source": [
    "    #    \n",
    "   ###   \n",
    "  #####  \n",
    " #######"
   ]
  },
  {
   "cell_type": "code",
   "execution_count": 44,
   "metadata": {},
   "outputs": [
    {
     "name": "stdout",
     "output_type": "stream",
     "text": [
      "    #    \n",
      "   ###   \n",
      "  #####  \n",
      " ####### \n",
      "#########\n"
     ]
    }
   ],
   "source": [
    "for i in range(5):\n",
    "    print((4-i)*\" \"+(2*i+1)*\"#\"+(4-i)*\" \")"
   ]
  },
  {
   "cell_type": "markdown",
   "metadata": {},
   "source": [
    "#\n",
    "##\n",
    "###\n",
    "####\n",
    "###\n",
    "##\n",
    "#"
   ]
  },
  {
   "cell_type": "code",
   "execution_count": 13,
   "metadata": {},
   "outputs": [
    {
     "name": "stdout",
     "output_type": "stream",
     "text": [
      "#   \n",
      "##  \n",
      "### \n",
      "####\n",
      "### \n",
      "##  \n",
      "#   \n"
     ]
    }
   ],
   "source": [
    "for i in range(7):\n",
    "    if i<4:\n",
    "        print((i+1)*\"#\"+(3-i)*\" \")\n",
    "    else :\n",
    "        print((7-i)*\"#\"+(i-3)*\" \")"
   ]
  },
  {
   "cell_type": "code",
   "execution_count": 17,
   "metadata": {},
   "outputs": [
    {
     "name": "stdout",
     "output_type": "stream",
     "text": [
      "    #   \n",
      "   # #  \n",
      "  # # # \n",
      " # # # #\n",
      "  # # # \n",
      "   # #  \n",
      "    #   \n"
     ]
    }
   ],
   "source": [
    "for i in range(7):\n",
    "    if i<4:\n",
    "        print((3-i)*\" \"+(i+1)*\" #\"+(3-i)*\" \")\n",
    "    else :\n",
    "        print((i-3)*\" \"+(7-i)*\" #\"+(i-3)*\" \")"
   ]
  },
  {
   "cell_type": "markdown",
   "metadata": {},
   "source": [
    " sss$ #sss\n",
    " ss$$ ##ss\n",
    " s$$$ ###s\n",
    " $$$$ ####\n",
    "  ### ###\n",
    "   ## ##\n",
    "    # #"
   ]
  },
  {
   "cell_type": "code",
   "execution_count": 21,
   "metadata": {},
   "outputs": [
    {
     "name": "stdout",
     "output_type": "stream",
     "text": [
      "   # #   \n",
      "  ## ##  \n",
      " ### ### \n",
      "#### ####\n",
      " ### ### \n",
      "  ## ##  \n",
      "   # #   \n"
     ]
    }
   ],
   "source": [
    "for i in range(7):\n",
    "    if i<4:\n",
    "        print((3-i)*\" \"+(i+1)*\"#\"+\" \"+(i+1)*\"#\"+(3-i)*\" \")\n",
    "    else:\n",
    "        print((i-3)*\" \"+(7-i)*\"#\"+\" \"+(7-i)*\"#\"+(i-3)*\" \")"
   ]
  },
  {
   "cell_type": "code",
   "execution_count": 24,
   "metadata": {},
   "outputs": [
    {
     "name": "stdout",
     "output_type": "stream",
     "text": [
      "0 0 1 0 1 2 0 1 2 3 0 1 2 3 4 "
     ]
    }
   ],
   "source": [
    "for i in range(5):\n",
    " for j in range(i+1):\n",
    "  print(j,end=\" \")"
   ]
  },
  {
   "cell_type": "code",
   "execution_count": 31,
   "metadata": {},
   "outputs": [
    {
     "name": "stdout",
     "output_type": "stream",
     "text": [
      "1\n",
      "1\n",
      "2\n",
      "1\n",
      "2\n",
      "3\n",
      "1\n",
      "2\n",
      "3\n",
      "4\n",
      "1\n",
      "2\n",
      "3\n",
      "4\n",
      "5\n"
     ]
    }
   ],
   "source": [
    "for i in range(5):\n",
    " for j in range(0,i+1):\n",
    "  print((j+1),end=\"\")\n",
    "  print()"
   ]
  },
  {
   "cell_type": "markdown",
   "metadata": {},
   "source": [
    "i=5\n",
    "j=1,i+1\n",
    "print(i)\n",
    "print(j) <br>\n",
    "i=10\n",
    "j=0,i+1\n",
    "print(i)\n",
    "print(j)<br>\n",
    "i=4\n",
    "j=0,i+2\n",
    "print(i)\n",
    "print(j)<br>\n",
    "i=11\n",
    "j=1,i+1\n",
    "print(i)\n",
    "print(j)\n",
    "\n",
    "\n"
   ]
  },
  {
   "cell_type": "code",
   "execution_count": null,
   "metadata": {},
   "outputs": [],
   "source": []
  },
  {
   "cell_type": "code",
   "execution_count": null,
   "metadata": {},
   "outputs": [],
   "source": []
  },
  {
   "cell_type": "code",
   "execution_count": null,
   "metadata": {},
   "outputs": [],
   "source": []
  }
 ],
 "metadata": {
  "kernelspec": {
   "display_name": "Python 3",
   "language": "python",
   "name": "python3"
  },
  "language_info": {
   "codemirror_mode": {
    "name": "ipython",
    "version": 3
   },
   "file_extension": ".py",
   "mimetype": "text/x-python",
   "name": "python",
   "nbconvert_exporter": "python",
   "pygments_lexer": "ipython3",
   "version": "3.10.11"
  }
 },
 "nbformat": 4,
 "nbformat_minor": 2
}
