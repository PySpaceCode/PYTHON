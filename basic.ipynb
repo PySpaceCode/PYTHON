{
 "cells": [
  {
   "cell_type": "markdown",
   "metadata": {},
   "source": [
    "# BASIC PROGRAM"
   ]
  },
  {
   "cell_type": "code",
   "execution_count": 4,
   "metadata": {},
   "outputs": [
    {
     "name": "stdout",
     "output_type": "stream",
     "text": [
      "12.65748848\n",
      "<class 'str'>\n"
     ]
    }
   ],
   "source": [
    "a=input(\"enter your name\")\n",
    "print(a)\n",
    "print(type(a))"
   ]
  },
  {
   "cell_type": "code",
   "execution_count": 5,
   "metadata": {},
   "outputs": [
    {
     "name": "stdout",
     "output_type": "stream",
     "text": [
      "<class 'str'>\n"
     ]
    }
   ],
   "source": [
    "print(type(input()))"
   ]
  },
  {
   "cell_type": "code",
   "execution_count": 7,
   "metadata": {},
   "outputs": [
    {
     "name": "stdout",
     "output_type": "stream",
     "text": [
      "Hello \n",
      "<class 'NoneType'>\n"
     ]
    }
   ],
   "source": [
    "print(type(print()))"
   ]
  },
  {
   "cell_type": "markdown",
   "metadata": {},
   "source": [
    "type - casting : According to our need we can convert our datatype\n",
    "1) inplicit type casting\n",
    "2)explicit type casting"
   ]
  },
  {
   "cell_type": "code",
   "execution_count": 13,
   "metadata": {},
   "outputs": [
    {
     "name": "stdout",
     "output_type": "stream",
     "text": [
      "28384\n"
     ]
    }
   ],
   "source": [
    "###Inplicit\n",
    "#addition of a two number\n",
    "a=input(\"enter your number\")\n",
    "b=input(\"enter your number\")\n",
    "c=int(a)\n",
    "d=int(b)\n",
    "print(c+d)"
   ]
  },
  {
   "cell_type": "code",
   "execution_count": 14,
   "metadata": {},
   "outputs": [
    {
     "name": "stdout",
     "output_type": "stream",
     "text": [
      "30\n"
     ]
    }
   ],
   "source": [
    "#explicit\n",
    "no1=int(input(\"enter your number\"))\n",
    "no2=int(input(\"enter your number\"))\n",
    "print(no1+no2)"
   ]
  },
  {
   "cell_type": "code",
   "execution_count": 16,
   "metadata": {},
   "outputs": [
    {
     "name": "stdout",
     "output_type": "stream",
     "text": [
      "hello Adarsh\n"
     ]
    }
   ],
   "source": [
    "name=str(input(\"Enter your name\"))\n",
    "print(\"hello\",name)"
   ]
  },
  {
   "cell_type": "code",
   "execution_count": 18,
   "metadata": {},
   "outputs": [
    {
     "name": "stdout",
     "output_type": "stream",
     "text": [
      "my name is  Adarsh <class 'str'>\n",
      "my age is  24 <class 'int'>\n",
      "my salary is  200000.0 <class 'float'>\n",
      "my address is  lucknow <class 'str'>\n",
      "my status is  True <class 'bool'>\n"
     ]
    }
   ],
   "source": [
    "#employee data collect\n",
    "name=input(\"enter your good name\")\n",
    "age=int(input(\"enter your age\"))\n",
    "salary=float(input(\"enter your salary\"))\n",
    "address=input(\"enter your address\")\n",
    "Martial_status=bool(input(\"enter your martial status\"))\n",
    "print(\"my name is \",name,type(name))\n",
    "print(\"my age is \",age,type(age))\n",
    "print(\"my salary is \",salary,type(salary))\n",
    "print(\"my address is \",address,type(address))\n",
    "print(\"my status is \",Martial_status,type(Martial_status))"
   ]
  },
  {
   "cell_type": "code",
   "execution_count": 21,
   "metadata": {},
   "outputs": [
    {
     "name": "stdout",
     "output_type": "stream",
     "text": [
      "my name is  adarsh tiwari my age is 24\n",
      "my name is adarsh tiwarimy age is 24\n"
     ]
    }
   ],
   "source": [
    "name=input(\"enter your name\")\n",
    "age=int(input(\"enter your cuurent age\"))\n",
    "print(\"my name is \",name ,\"my age is\",age ) \n",
    "print(\"my name is \"+ name +\"my age is\",age )"
   ]
  },
  {
   "cell_type": "markdown",
   "metadata": {},
   "source": [
    "Basic operator\n",
    "1) arithicmatic operator\n",
    "2) assignment operator\n",
    "3) comparison"
   ]
  },
  {
   "cell_type": "code",
   "execution_count": 3,
   "metadata": {},
   "outputs": [
    {
     "name": "stdout",
     "output_type": "stream",
     "text": [
      "12\n",
      "8\n",
      "20\n",
      "5.0\n",
      "0\n",
      "100\n",
      "5\n"
     ]
    }
   ],
   "source": [
    "#1) example\n",
    "a=10\n",
    "b=2\n",
    "print(a+b)\n",
    "print(a-b)\n",
    "print(a*b)\n",
    "print(a/b)#decimal\n",
    "print(a%b)#remainder\n",
    "print(a**b)\n",
    "print(a//b)#last pointing value"
   ]
  },
  {
   "cell_type": "code",
   "execution_count": 10,
   "metadata": {},
   "outputs": [
    {
     "name": "stdout",
     "output_type": "stream",
     "text": [
      "10\n",
      "10\n"
     ]
    }
   ],
   "source": [
    "# 2) Assignment operator\n",
    "a=5\n",
    "b=10\n",
    "a=b\n",
    "b=a\n",
    "print(a)\n",
    "print(b)\n",
    "#a=a+10\n"
   ]
  },
  {
   "cell_type": "code",
   "execution_count": 14,
   "metadata": {},
   "outputs": [
    {
     "name": "stdout",
     "output_type": "stream",
     "text": [
      "10\n",
      "6\n",
      "60\n",
      "6.0\n"
     ]
    }
   ],
   "source": [
    "x=5\n",
    "y=4\n",
    "x+=5\n",
    "print(x)\n",
    "x-=4\n",
    "print(x)\n",
    "x*=10\n",
    "print(x)\n",
    "x/=10\n",
    "print(x)"
   ]
  },
  {
   "cell_type": "markdown",
   "metadata": {},
   "source": [
    "# comparison operator"
   ]
  },
  {
   "cell_type": "code",
   "execution_count": 20,
   "metadata": {},
   "outputs": [
    {
     "name": "stdout",
     "output_type": "stream",
     "text": [
      "False\n",
      "True\n",
      "False\n",
      "True\n",
      "False\n",
      "True\n"
     ]
    }
   ],
   "source": [
    "p=20\n",
    "q=10\n",
    "print(p==q)# return boolean value\n",
    "print(p>q)\n",
    "print(p<q)\n",
    "print(p!=q)\n",
    "print(p<=q)\n",
    "print(p>=q)"
   ]
  },
  {
   "cell_type": "markdown",
   "metadata": {},
   "source": [
    "# Logical operator\n"
   ]
  },
  {
   "cell_type": "code",
   "execution_count": 24,
   "metadata": {},
   "outputs": [
    {
     "name": "stdout",
     "output_type": "stream",
     "text": [
      "False\n",
      "True\n",
      "True\n"
     ]
    }
   ],
   "source": [
    "a=10\n",
    "b=5\n",
    "print(a==b and a!=b) #gives always first\n",
    "print(a==b or a!=b) # gives always last\n",
    "print(a !=b)"
   ]
  },
  {
   "cell_type": "markdown",
   "metadata": {},
   "source": [
    "# Identity operator -is , is not\n",
    "\n"
   ]
  },
  {
   "cell_type": "code",
   "execution_count": 25,
   "metadata": {},
   "outputs": [
    {
     "name": "stdout",
     "output_type": "stream",
     "text": [
      "False\n",
      "True\n"
     ]
    }
   ],
   "source": [
    "s=10\n",
    "d=20\n",
    "print(s is d) #==\n",
    "print(s is not d) #!="
   ]
  },
  {
   "cell_type": "markdown",
   "metadata": {},
   "source": [
    "# Member ship operator\n",
    "in \n",
    "not in"
   ]
  },
  {
   "cell_type": "code",
   "execution_count": 29,
   "metadata": {},
   "outputs": [
    {
     "name": "stdout",
     "output_type": "stream",
     "text": [
      "True\n",
      "False\n",
      "False\n",
      "True\n"
     ]
    }
   ],
   "source": [
    "a=[10,20,30,40]\n",
    "print(10 in a)\n",
    "print(100 in a)\n",
    "print(10 not in a)\n",
    "print(100 not in a)\n"
   ]
  },
  {
   "cell_type": "markdown",
   "metadata": {},
   "source": [
    "# unary operator\n",
    "i++\n",
    "i--"
   ]
  },
  {
   "cell_type": "code",
   "execution_count": 32,
   "metadata": {},
   "outputs": [
    {
     "name": "stdout",
     "output_type": "stream",
     "text": [
      "101\n",
      "201\n"
     ]
    }
   ],
   "source": [
    "a=100\n",
    "b=200\n",
    "a=a+1 # a++\n",
    "b=b+1 #b++\n",
    "print(a)\n",
    "print(b)\n",
    "\n"
   ]
  },
  {
   "cell_type": "markdown",
   "metadata": {},
   "source": [
    "# Control flow\n",
    "Control Flow-To control the execution of the program\n",
    "1) conditional statement ex-if, if-else, if-elif-else\n",
    "2) Loop statement-for , while\n",
    "3) Iteration statement -break, continue, pass\n"
   ]
  },
  {
   "cell_type": "code",
   "execution_count": 53,
   "metadata": {},
   "outputs": [
    {
     "name": "stdout",
     "output_type": "stream",
     "text": [
      "Name is correct\n"
     ]
    }
   ],
   "source": [
    "name=input(\"enter your name\")\n",
    "if name==\"shaheen\" :\n",
    "    print(\"Name is correct\")\n",
    "    "
   ]
  },
  {
   "cell_type": "markdown",
   "metadata": {},
   "source": [
    "# wap to get a number and check it is even or odd\n"
   ]
  },
  {
   "cell_type": "code",
   "execution_count": 3,
   "metadata": {},
   "outputs": [
    {
     "name": "stdout",
     "output_type": "stream",
     "text": [
      "number is even 12\n"
     ]
    }
   ],
   "source": [
    "n=int(input(\"enter your number\"))\n",
    "if n%2==0:\n",
    "    print(\"number is even\",n)\n",
    "else:\n",
    "    print(\"number is odd\",n)\n"
   ]
  },
  {
   "cell_type": "markdown",
   "metadata": {},
   "source": [
    "# wap to check person is eligible for vote or not"
   ]
  },
  {
   "cell_type": "code",
   "execution_count": 5,
   "metadata": {},
   "outputs": [
    {
     "name": "stdout",
     "output_type": "stream",
     "text": [
      "not eligible\n"
     ]
    }
   ],
   "source": [
    "age=int(input(\"enter your age\"))\n",
    "if age>=18:\n",
    "    print(\"person is eligible\")\n",
    "else:\n",
    "    print(\"not eligible\")"
   ]
  },
  {
   "cell_type": "markdown",
   "metadata": {},
   "source": [
    "# # why we are using else"
   ]
  },
  {
   "cell_type": "code",
   "execution_count": 13,
   "metadata": {},
   "outputs": [
    {
     "name": "stdout",
     "output_type": "stream",
     "text": [
      "number is match\n"
     ]
    }
   ],
   "source": [
    "n=12\n",
    "if n==12:\n",
    "    print(\"number is match\")\n",
    "else:\n",
    "  print(\"number is not match\")"
   ]
  },
  {
   "cell_type": "markdown",
   "metadata": {},
   "source": [
    "# do the sum of two number in a one line\n"
   ]
  },
  {
   "cell_type": "code",
   "execution_count": 8,
   "metadata": {},
   "outputs": [
    {
     "name": "stdout",
     "output_type": "stream",
     "text": [
      "24\n"
     ]
    }
   ],
   "source": [
    "\n",
    "print(int(input(\"enter your first number\"))+int(input(\"enter your second number\")))"
   ]
  },
  {
   "cell_type": "code",
   "execution_count": 18,
   "metadata": {},
   "outputs": [
    {
     "name": "stdout",
     "output_type": "stream",
     "text": [
      "you enter in incoorect manner\n"
     ]
    }
   ],
   "source": [
    "day=input(\"enter your day\")\n",
    "if day==\"Monday\":\n",
    "    print(\"today is monday\")\n",
    "elif day==\"Tuesday\":\n",
    "    print(\"today is Tuesday\")\n",
    "elif day==\"Wednesday\":\n",
    "    print(\"today is Wednesday\")\n",
    "elif day==\"Thursday\":\n",
    "    print(\"today is Thursday\")\n",
    "elif day==\"Friday\":\n",
    "    print(\"today is Friday\")\n",
    "elif day==\"Saturday\":\n",
    "    print(\"today is Saturday\")\n",
    "elif day==\"Sunday\":\n",
    "    print(\"sunday is there holiday\")\n",
    "else:\n",
    "    print(\"you enter in incorrect manner\")\n",
    "\n",
    "\n",
    "\n"
   ]
  },
  {
   "cell_type": "code",
   "execution_count": 19,
   "metadata": {},
   "outputs": [
    {
     "name": "stdout",
     "output_type": "stream",
     "text": [
      "14 is largest\n"
     ]
    }
   ],
   "source": [
    "a=12\n",
    "b=13\n",
    "c=14\n",
    "if a>b and a>c:\n",
    "    print(a,\"is largest\")\n",
    "elif b>a and b>c:\n",
    "    print(b,\"is largest\")\n",
    "else:\n",
    "    print(c,\"is largest\")"
   ]
  },
  {
   "cell_type": "code",
   "execution_count": 1,
   "metadata": {},
   "outputs": [
    {
     "name": "stdout",
     "output_type": "stream",
     "text": [
      "14 is largest\n"
     ]
    }
   ],
   "source": [
    "a=12\n",
    "b=13\n",
    "c=14\n",
    "if a>b :\n",
    "    print(a,\"is largest\")\n",
    "elif a>c:\n",
    "    print(a, \"is largest\")\n",
    "elif b>a and b>c:\n",
    "    print(b,\"is largest\")\n",
    "else:\n",
    "    print(c,\"is largest\")"
   ]
  }
 ],
 "metadata": {
  "kernelspec": {
   "display_name": "Python 3",
   "language": "python",
   "name": "python3"
  },
  "language_info": {
   "codemirror_mode": {
    "name": "ipython",
    "version": 3
   },
   "file_extension": ".py",
   "mimetype": "text/x-python",
   "name": "python",
   "nbconvert_exporter": "python",
   "pygments_lexer": "ipython3",
   "version": "3.10.11"
  }
 },
 "nbformat": 4,
 "nbformat_minor": 2
}
