{
 "cells": [
  {
   "cell_type": "markdown",
   "metadata": {},
   "source": [
    "Dataset - \n",
    "1) list []\n",
    "2) tuple ()\n",
    "3) dictionary {'key':value}\n",
    "4) set {}\n",
    "5) string"
   ]
  },
  {
   "cell_type": "markdown",
   "metadata": {},
   "source": [
    "List - is a collection of heterogeneous elements<br>\n",
    "list always allowed the dublicate element<br>\n",
    "list are dynamic in nature <br>\n",
    "list size can be increase and decrease<br>\n",
    "list have the positive and negative indexing<br>\n",
    "list are mutable (value of the list can be changed)<br>"
   ]
  },
  {
   "cell_type": "code",
   "execution_count": 2,
   "metadata": {},
   "outputs": [
    {
     "name": "stdout",
     "output_type": "stream",
     "text": [
      "list contained the heterogeneous elements [1, 2, 3, 'Shaheen', True]\n"
     ]
    }
   ],
   "source": [
    "list=[1,2,3,'Shaheen',True]\n",
    "print(\"list contained the heterogeneous elements\",list)"
   ]
  },
  {
   "cell_type": "code",
   "execution_count": 4,
   "metadata": {},
   "outputs": [
    {
     "name": "stdout",
     "output_type": "stream",
     "text": [
      "dublicate elements preferred [1, 2, 3, 'shaheen', 1, 2, 'shaheen']\n"
     ]
    }
   ],
   "source": [
    "l=[1,2,3,\"shaheen\",1,2,\"shaheen\"]\n",
    "print(\"dublicate elements preferred\",l)"
   ]
  },
  {
   "cell_type": "code",
   "execution_count": 8,
   "metadata": {},
   "outputs": [
    {
     "name": "stdout",
     "output_type": "stream",
     "text": [
      "1\n",
      "2\n",
      "3\n",
      "[4, 5]\n"
     ]
    }
   ],
   "source": [
    "l1=[1,2,3,[4,5]]\n",
    "# for i in l1:\n",
    "#     print(i)\n",
    "for j in l1:\n",
    "    print(j)\n"
   ]
  },
  {
   "cell_type": "code",
   "execution_count": 9,
   "metadata": {},
   "outputs": [
    {
     "name": "stdout",
     "output_type": "stream",
     "text": [
      "1\n",
      "2\n",
      "3\n",
      "6\n",
      "8\n",
      "9\n"
     ]
    }
   ],
   "source": [
    "k=[1,2,3,6,8,9]\n",
    "for i in k:\n",
    "    print(i)"
   ]
  },
  {
   "cell_type": "markdown",
   "metadata": {},
   "source": [
    "# mutablility - elements of the list can be changed"
   ]
  },
  {
   "cell_type": "code",
   "execution_count": 13,
   "metadata": {},
   "outputs": [
    {
     "name": "stdout",
     "output_type": "stream",
     "text": [
      "72\n"
     ]
    }
   ],
   "source": [
    "l=[1,2,3,\"shahen\"]\n",
    "l[3]=\"Shaheen\"\n",
    "print(l.__sizeof__())\n"
   ]
  },
  {
   "cell_type": "code",
   "execution_count": 14,
   "metadata": {},
   "outputs": [
    {
     "name": "stdout",
     "output_type": "stream",
     "text": [
      "[1, 2, 3, 'Adarsh tiwari', 'shaheem alam', 'cadd centre']\n"
     ]
    }
   ],
   "source": [
    "j=[1,2,3,\"adarsh\",\"shaheen\",\"cadd\"]\n",
    "j[3]=\"Adarsh tiwari\"\n",
    "j[4]=\"shaheem alam\"\n",
    "j[5]=\"cadd centre\"\n",
    "print(j)"
   ]
  },
  {
   "cell_type": "code",
   "execution_count": 17,
   "metadata": {},
   "outputs": [
    {
     "name": "stdout",
     "output_type": "stream",
     "text": [
      "1\n",
      "1\n",
      "3\n",
      "4\n",
      "5\n",
      "6\n"
     ]
    }
   ],
   "source": [
    "list=[1,1,3,4,5,6]\n",
    "print(list[0])\n",
    "print(list[1])\n",
    "print(list[2])\n",
    "print(list[3])\n",
    "print(list[4])\n",
    "print(list[5])\n"
   ]
  },
  {
   "cell_type": "code",
   "execution_count": 24,
   "metadata": {},
   "outputs": [
    {
     "name": "stdout",
     "output_type": "stream",
     "text": [
      "-6\n",
      "-4\n",
      "1\n"
     ]
    }
   ],
   "source": [
    "#negative indexing\n",
    "list=[1,1,-3,-4,5,-6]\n",
    "print(list[-1])\n",
    "print(list[-3])\n",
    "print(list[-6])"
   ]
  },
  {
   "cell_type": "markdown",
   "metadata": {},
   "source": [
    "# Slicing - to cut the list on the basis of requirement\n",
    "list=[1,3,4,5,6] <br>\n",
    "slicing works from starting point to ending point<br>\n",
    "syntax- <br>\n",
    "list[start:end:step]<br>\n",
    "list[: :]<br>"
   ]
  },
  {
   "cell_type": "code",
   "execution_count": 30,
   "metadata": {},
   "outputs": [
    {
     "name": "stdout",
     "output_type": "stream",
     "text": [
      "[1, 2, 3, 4]\n",
      "[2, 3, 4]\n",
      "[3, 4]\n",
      "[4]\n"
     ]
    }
   ],
   "source": [
    "list=[1,2,3,4]\n",
    "print(list[::])\n",
    "print(list[1:])\n",
    "print(list[2:])\n",
    "print(list[3:])"
   ]
  },
  {
   "cell_type": "code",
   "execution_count": 33,
   "metadata": {},
   "outputs": [
    {
     "name": "stdout",
     "output_type": "stream",
     "text": [
      "[11, 113, 115, 120]\n",
      "[1, 11, 115]\n"
     ]
    }
   ],
   "source": [
    "list=[1,2,11,113,115,120]\n",
    "print(list[2:])\n",
    "print(list[::2])\n",
    "print(list[::2])\n"
   ]
  },
  {
   "cell_type": "markdown",
   "metadata": {},
   "source": [
    "list=[1,2,3,4,5,6,11,7,8,10]<br>\n",
    "output -<br>\n",
    "1) 1,2,3 \n",
    "2) 2,4,6,7,10\n",
    "3) 3,4,5,6,11,7,8,10\n",
    "4) 1,3,5,11,8\n",
    "\n"
   ]
  },
  {
   "cell_type": "code",
   "execution_count": null,
   "metadata": {},
   "outputs": [],
   "source": [
    "numbers = [10, 20, 30, 40, 50]\n",
    "result = numbers[__]\n",
    "print(result)  # Output should be 30\n"
   ]
  },
  {
   "cell_type": "code",
   "execution_count": null,
   "metadata": {},
   "outputs": [],
   "source": [
    "numbers = [10, 20, 30, 40, 50]\n",
    "result = numbers[__]\n",
    "print(result)  # Output should be 50\n"
   ]
  },
  {
   "cell_type": "code",
   "execution_count": null,
   "metadata": {},
   "outputs": [],
   "source": [
    "numbers = [10, 20, 30, 40, 50]\n",
    "result = numbers[__:__]\n",
    "print(result)  # Output should be [20, 30, 40]\n"
   ]
  },
  {
   "cell_type": "code",
   "execution_count": null,
   "metadata": {},
   "outputs": [],
   "source": [
    "numbers = [10, 20, 30, 40, 50]\n",
    "result = numbers[__]\n",
    "print(result)  # Output should be [10, 30, 50]\n"
   ]
  },
  {
   "cell_type": "code",
   "execution_count": null,
   "metadata": {},
   "outputs": [],
   "source": [
    "numbers = [10, 20, 30, 40, 50]\n",
    "result = numbers[__]\n",
    "print(result)  # Output should be [50, 40, 30, 20, 10]\n"
   ]
  },
  {
   "cell_type": "code",
   "execution_count": null,
   "metadata": {},
   "outputs": [],
   "source": [
    "numbers = [10, 20, 30, 40, 50]\n",
    "result = numbers[__:__:__]\n",
    "print(result)  # Output should be [50, 40, 30]\n"
   ]
  },
  {
   "cell_type": "code",
   "execution_count": null,
   "metadata": {},
   "outputs": [],
   "source": [
    "numbers = [10, 20, 30, 40, 50]\n",
    "result = numbers[__]\n",
    "print(result)  # Output should be [10, 20, 30]\n"
   ]
  },
  {
   "cell_type": "code",
   "execution_count": null,
   "metadata": {},
   "outputs": [],
   "source": [
    "numbers = [10, 20, 30, 40, 50]\n",
    "result = numbers[__:]\n",
    "print(result)  # Output should be [30, 40, 50]\n"
   ]
  },
  {
   "cell_type": "code",
   "execution_count": null,
   "metadata": {},
   "outputs": [],
   "source": [
    "numbers = [10, 20, 30, 40, 50, 60, 70]\n",
    "result = numbers[__:__:__]\n",
    "print(result)  # Output should be [20, 40, 60]\n"
   ]
  },
  {
   "cell_type": "markdown",
   "metadata": {},
   "source": [
    "# slicing - Positive and negative like indexing\n",
    "# reverse always [::-1]"
   ]
  },
  {
   "cell_type": "code",
   "execution_count": 3,
   "metadata": {},
   "outputs": [
    {
     "name": "stdout",
     "output_type": "stream",
     "text": [
      "[0]\n",
      "[1, 2]\n",
      "[1, 2, 3]\n"
     ]
    }
   ],
   "source": [
    "list=[[0],[1,2],[1,2,3]]\n",
    "print(list[0])\n",
    "print(list[1])\n",
    "print(list[2])\n"
   ]
  },
  {
   "cell_type": "code",
   "execution_count": 13,
   "metadata": {},
   "outputs": [
    {
     "name": "stdout",
     "output_type": "stream",
     "text": [
      "[0]\n",
      "[1, 2]\n",
      "[1, 2, 3]\n",
      "elements inside a nested list [1, 2]\n",
      "1\n",
      "2\n",
      "elements inside a nested list [1, 2, 3]\n",
      "1\n",
      "2\n",
      "3\n"
     ]
    }
   ],
   "source": [
    "list=[[0],[1,2],[1,2,3]]\n",
    "print(list[0])\n",
    "print(list[1])\n",
    "print(list[2])\n",
    "print(\"elements inside a nested list\",list[1])\n",
    "print(list[1][0])\n",
    "print(list[1][1])\n",
    "print(\"elements inside a nested list\",list[2])\n",
    "print(list[2][0])\n",
    "print(list[2][1])\n",
    "print(list[2][2])\n",
    "\n",
    "\n"
   ]
  },
  {
   "cell_type": "code",
   "execution_count": 16,
   "metadata": {},
   "outputs": [
    {
     "data": {
      "text/plain": [
       "1"
      ]
     },
     "execution_count": 16,
     "metadata": {},
     "output_type": "execute_result"
    }
   ],
   "source": [
    "nested_list = [[1, 2, 3], [4, 5, 6], [7, 8, 9]]\n",
    "nested_list[0][0]"
   ]
  },
  {
   "cell_type": "code",
   "execution_count": 19,
   "metadata": {},
   "outputs": [
    {
     "name": "stdout",
     "output_type": "stream",
     "text": [
      "8\n"
     ]
    }
   ],
   "source": [
    "l=[1,1,2,4]\n",
    "s=0\n",
    "for i in l:\n",
    "    s=s+i\n",
    "print(s)"
   ]
  },
  {
   "cell_type": "code",
   "execution_count": 62,
   "metadata": {},
   "outputs": [
    {
     "name": "stdout",
     "output_type": "stream",
     "text": [
      "5\n"
     ]
    }
   ],
   "source": [
    "l=[1,3,4,5]\n",
    "#min=1\n",
    "#max=5\n",
    "s=l[0] #1\n",
    "for i in l: #i=1,3,4,5\n",
    "    if s<=i:\n",
    "        s=i\n",
    "print(s)"
   ]
  },
  {
   "cell_type": "markdown",
   "metadata": {},
   "source": [
    "l=[1,3,4,5] #max\n",
    "s=l[0] #1\n",
    "for i in l: #i=1,3,4,5\n",
    "    if s<=i:\n",
    "        s=i\n",
    "print(s)\n",
    "s=4\n",
    "i=5\n",
    "4<=5:s<=i\n",
    "s=5"
   ]
  },
  {
   "cell_type": "markdown",
   "metadata": {},
   "source": [
    "list=[1,2,3,4,5,6,10,12,15,19]\n",
    "1) sum of all element\n",
    "2) even  element\n",
    "3) odd elements\n",
    "4) prime number\n",
    "5) reverse list[19,15,12,10,6,5,4,3,2,1]\n",
    "6) list=[\"Adarsh\"] #output-hsrada\n",
    "\n"
   ]
  },
  {
   "cell_type": "code",
   "execution_count": 1,
   "metadata": {},
   "outputs": [
    {
     "name": "stdout",
     "output_type": "stream",
     "text": [
      "77\n"
     ]
    }
   ],
   "source": [
    "list=[1,2,3,4,5,6,10,12,15,19]\n",
    "s=0 #1,3,6\n",
    "for i in list:#i=1,2,3\n",
    "    s=s+i #6,\n",
    "print(s)"
   ]
  },
  {
   "cell_type": "code",
   "execution_count": 9,
   "metadata": {},
   "outputs": [
    {
     "name": "stdout",
     "output_type": "stream",
     "text": [
      "2\n",
      "4\n",
      "6\n",
      "10\n",
      "12\n"
     ]
    }
   ],
   "source": [
    "list=[1,2,3,4,5,6,10,12,15,19]\n",
    "for i in list:\n",
    "    if i%2==0:\n",
    "        print(i)\n",
    "    \n"
   ]
  },
  {
   "cell_type": "code",
   "execution_count": 7,
   "metadata": {},
   "outputs": [
    {
     "name": "stdout",
     "output_type": "stream",
     "text": [
      "1\n",
      "3\n",
      "5\n",
      "15\n",
      "19\n"
     ]
    }
   ],
   "source": [
    "list=[1,2,3,4,5,6,10,12,15,19]\n",
    "for i in list:\n",
    "    if i%2==1:\n",
    "        print(i)"
   ]
  },
  {
   "cell_type": "code",
   "execution_count": 11,
   "metadata": {},
   "outputs": [
    {
     "name": "stdout",
     "output_type": "stream",
     "text": [
      "not prim\n"
     ]
    }
   ],
   "source": [
    "# one number prime \n",
    "n=12\n",
    "k=0\n",
    "for i in range(1,12):\n",
    "    if n%i==0:\n",
    "        k=k+1\n",
    "if k==2:\n",
    "    print(\"prime\")\n",
    "else:\n",
    "    print(\"not prim\")"
   ]
  },
  {
   "cell_type": "code",
   "execution_count": 15,
   "metadata": {},
   "outputs": [],
   "source": [
    "for i in range(1,1):\n",
    "    print(i)"
   ]
  },
  {
   "cell_type": "code",
   "execution_count": 46,
   "metadata": {},
   "outputs": [
    {
     "name": "stdout",
     "output_type": "stream",
     "text": [
      "19\n"
     ]
    }
   ],
   "source": [
    "list=[2,3,4,5,6,10,12,15,19] #2,3,5,19\n",
    "k=0\n",
    "for i in list:\n",
    "    for j in range(1,i+1):\n",
    "        if i%j==0:\n",
    "            k=k+1\n",
    "if k==2:\n",
    "     print(i)\n",
    "else:\n",
    "    print(i)\n",
    "\n",
    "    "
   ]
  },
  {
   "cell_type": "code",
   "execution_count": 40,
   "metadata": {},
   "outputs": [
    {
     "name": "stdout",
     "output_type": "stream",
     "text": [
      "[19, 15, 12, 10, 6, 5, 4, 3, 2]\n"
     ]
    }
   ],
   "source": [
    "list=[2,3,4,5,6,10,12,15,19]\n",
    "print(list[::-1])"
   ]
  },
  {
   "cell_type": "code",
   "execution_count": 42,
   "metadata": {},
   "outputs": [
    {
     "name": "stdout",
     "output_type": "stream",
     "text": [
      "hsradA\n"
     ]
    }
   ],
   "source": [
    "list='Adarsh'\n",
    "print(list[::-1])"
   ]
  },
  {
   "cell_type": "code",
   "execution_count": 44,
   "metadata": {},
   "outputs": [
    {
     "name": "stdout",
     "output_type": "stream",
     "text": [
      "['policy', 'best', 'the', 'is', 'Honesty']\n"
     ]
    }
   ],
   "source": [
    "list=[\"Honesty\",\"is\",\"the\",\"best\",\"policy\"]\n",
    "\n",
    "print(list[::-1])"
   ]
  },
  {
   "cell_type": "code",
   "execution_count": 43,
   "metadata": {},
   "outputs": [
    {
     "name": "stdout",
     "output_type": "stream",
     "text": [
      "hsradA\n"
     ]
    }
   ],
   "source": [
    "list=['Adarsh']\n",
    "l1=list[0]\n",
    "print(l1[::-1])"
   ]
  },
  {
   "cell_type": "markdown",
   "metadata": {},
   "source": [
    "# Function\n",
    "function is generally used to reduce code reuseability and we can define it once and use anytime\n",
    "1) len()- usually used to get the length of the list \n",
    "2) sum() -usually get the sum of the list\n",
    "3) max()-maximum element of the list\n",
    "4) min()-minimum element of the list\n",
    "5) append()-to add the item inside a list (always add element in last)\n",
    "6) extend()-to used add list in a parent \n",
    "7) remove(value)-used to remove the specific\n",
    "8) insert(index,value)- used for spacially for adding the element with index value\n",
    "9) index()-always return the index of the element but in dublicacy time it only return 1 index\n",
    "10) count()-used for count the dublicate element of the list \n",
    "11) sort()-used for sort the data in ascending order"
   ]
  },
  {
   "cell_type": "code",
   "execution_count": 58,
   "metadata": {},
   "outputs": [
    {
     "name": "stdout",
     "output_type": "stream",
     "text": [
      "length of the list is  10\n"
     ]
    }
   ],
   "source": [
    "# 1) len\n",
    "l=[1,2,3,4,5,6,7,8,9,10]\n",
    "k=len(l)\n",
    "print(\"length of the list is \",k)"
   ]
  },
  {
   "cell_type": "code",
   "execution_count": 60,
   "metadata": {},
   "outputs": [
    {
     "name": "stdout",
     "output_type": "stream",
     "text": [
      "Sum of the list 55\n"
     ]
    }
   ],
   "source": [
    "#2) sum\n",
    "l=[1,2,3,4,5,6,7,8,9,10]\n",
    "s=sum(l)\n",
    "print(\"Sum of the list\",s)"
   ]
  },
  {
   "cell_type": "code",
   "execution_count": 64,
   "metadata": {},
   "outputs": [
    {
     "name": "stdout",
     "output_type": "stream",
     "text": [
      "minimum element of the list 1\n",
      "maximum element of the list 10\n"
     ]
    }
   ],
   "source": [
    "# 3) min \n",
    "# 4) max\n",
    "l=[1,2,3,4,5,6,7,8,9,10]\n",
    "m=min(l)\n",
    "print(\"minimum element of the list\",m)\n",
    "n=max(l)\n",
    "print(\"maximum element of the list\",n)\n"
   ]
  },
  {
   "cell_type": "code",
   "execution_count": 69,
   "metadata": {},
   "outputs": [
    {
     "name": "stdout",
     "output_type": "stream",
     "text": [
      "[1, 2, 3, 4, 5, 6, 7, 8, 9, 10, 11]\n"
     ]
    }
   ],
   "source": [
    "#append\n",
    "l=[1,2,3,4,5,6,7,8,9,10]\n",
    "k=11\n",
    "ap=l.append(k)\n",
    "print(l)"
   ]
  },
  {
   "cell_type": "code",
   "execution_count": null,
   "metadata": {},
   "outputs": [],
   "source": []
  },
  {
   "cell_type": "code",
   "execution_count": 94,
   "metadata": {},
   "outputs": [
    {
     "name": "stdout",
     "output_type": "stream",
     "text": [
      "[1, 2, 3, 4, 5, 6, 7, 8, 9]\n"
     ]
    }
   ],
   "source": [
    "#extend\n",
    "l=[1,2,3]\n",
    "l1=[4,5,6]\n",
    "l2=[7,8,9]\n",
    "ext=l.extend(l1)\n",
    "ex=l.extend(l2)\n",
    "print(l)"
   ]
  },
  {
   "cell_type": "code",
   "execution_count": 79,
   "metadata": {},
   "outputs": [
    {
     "name": "stdout",
     "output_type": "stream",
     "text": [
      "[4, 5, 6, 7, 8, 9]\n"
     ]
    }
   ],
   "source": [
    "l=[1,2,3]\n",
    "l1=[4,5,6]\n",
    "l2=[7,8,9]\n",
    "ext=l1.extend(l2)\n",
    "print(l1)"
   ]
  },
  {
   "cell_type": "code",
   "execution_count": 83,
   "metadata": {},
   "outputs": [
    {
     "name": "stdout",
     "output_type": "stream",
     "text": [
      "[1, 2, 3, 4, 5, 6, 7, 8]\n"
     ]
    }
   ],
   "source": [
    "l=[1, 2, 3, 4, 5, 6, 7, 8, 9]\n",
    "k=l.remove(9)\n",
    "print(l)"
   ]
  },
  {
   "cell_type": "code",
   "execution_count": 86,
   "metadata": {},
   "outputs": [
    {
     "name": "stdout",
     "output_type": "stream",
     "text": [
      "[1, 2, 3, 4, 5, 6, 7, 8, 9]\n"
     ]
    }
   ],
   "source": [
    "#insert\n",
    "l=[1, 2, 3, 5, 6, 7, 8, 9]\n",
    "k=l.insert(3,4)\n",
    "print(l)"
   ]
  },
  {
   "cell_type": "code",
   "execution_count": 92,
   "metadata": {},
   "outputs": [
    {
     "name": "stdout",
     "output_type": "stream",
     "text": [
      "9\n"
     ]
    }
   ],
   "source": [
    "# index\n",
    "l=[1, 2, 3, 4, 5, 6, 7, 8, 9,11,14,11,15,17,19,20]\n",
    "k=l.index(11)\n",
    "print(k)"
   ]
  },
  {
   "cell_type": "code",
   "execution_count": 93,
   "metadata": {},
   "outputs": [
    {
     "name": "stdout",
     "output_type": "stream",
     "text": [
      "2\n"
     ]
    }
   ],
   "source": [
    "#count \n",
    "l=[1, 2, 3, 4, 5, 6, 7, 8, 9,11,14,11,15,17,19,20]\n",
    "k=l.count(11)\n",
    "print(k)"
   ]
  },
  {
   "cell_type": "code",
   "execution_count": 96,
   "metadata": {},
   "outputs": [
    {
     "name": "stdout",
     "output_type": "stream",
     "text": [
      "[1, 1, 1, 2, 2, 3, 3, 4, 6, 8, 12, 16, 17]\n"
     ]
    }
   ],
   "source": [
    "l=[1,4,6,8,1,2,3,12,16,17,1,2,3]\n",
    "k=l.sort()\n",
    "print(l)"
   ]
  }
 ],
 "metadata": {
  "kernelspec": {
   "display_name": "Python 3",
   "language": "python",
   "name": "python3"
  },
  "language_info": {
   "codemirror_mode": {
    "name": "ipython",
    "version": 3
   },
   "file_extension": ".py",
   "mimetype": "text/x-python",
   "name": "python",
   "nbconvert_exporter": "python",
   "pygments_lexer": "ipython3",
   "version": "3.10.11"
  }
 },
 "nbformat": 4,
 "nbformat_minor": 2
}
