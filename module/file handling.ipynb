{
 "cells": [
  {
   "cell_type": "markdown",
   "metadata": {},
   "source": [
    "What is File ?<br/>\n",
    "\n",
    "File is a way to store the data permantaly for future purpose .<br/>\n",
    "When we require our file so we can use them \n",
    "## Types of file <br/> \n",
    "1) Text- where we can read and write the data\n",
    "2) binary (image) - where we can see the data in pictorial way"
   ]
  },
  {
   "cell_type": "markdown",
   "metadata": {},
   "source": [
    "# what are the operation we can perform on a file<br/>\n",
    "1) open f=open(filename,mode) <br/>\n",
    "filename-name of the file\n",
    "mode-what operation you have to perform (read,write) \n",
    "2) read <br/>\n",
    "f=open(\"file.py\",\"r\")\n",
    "3) write <br/>\n",
    "f=open(\"file.py\",\"w\")\n",
    "4) close  <br/>\n",
    "f.close()\n"
   ]
  },
  {
   "cell_type": "code",
   "execution_count": 14,
   "metadata": {},
   "outputs": [
    {
     "name": "stdout",
     "output_type": "stream",
     "text": [
      "name of the file example.txt\n",
      "mode of the file r\n",
      "is file readable or not True\n",
      "is file writeable or not False\n",
      "i want to close the file None\n",
      "i want to close the file True\n"
     ]
    }
   ],
   "source": [
    "f=open(\"example.txt\",\"r\")\n",
    "print(\"name of the file\",f.name)\n",
    "print(\"mode of the file\",f.mode)\n",
    "print(\"is file readable or not\",f.readable())\n",
    "print(\"is file writeable or not\",f.writable())\n",
    "print(\"i want to close the file\",f.close())\n",
    "\n",
    "print(\"i want to close the file\",f.closed)"
   ]
  },
  {
   "cell_type": "markdown",
   "metadata": {},
   "source": [
    "# write data into text file\n",
    "1) write(str)\n",
    "2) writelines(list of lines)"
   ]
  },
  {
   "cell_type": "code",
   "execution_count": 17,
   "metadata": {},
   "outputs": [
    {
     "data": {
      "text/plain": [
       "18"
      ]
     },
     "execution_count": 17,
     "metadata": {},
     "output_type": "execute_result"
    }
   ],
   "source": [
    "f=open(\"example.txt\",'w')\n",
    "f.write(\"My name is adarsh \")"
   ]
  },
  {
   "cell_type": "code",
   "execution_count": 22,
   "metadata": {},
   "outputs": [],
   "source": [
    "line=[\"Honesty is the best policy\\n\",\"always speak the truth\\n\"]\n",
    "f=open(\"examle.txt\",'w')\n",
    "f.writelines(line)"
   ]
  },
  {
   "cell_type": "code",
   "execution_count": 25,
   "metadata": {},
   "outputs": [],
   "source": [
    "f=open(\"adarsh.csv\",\"a\")\n",
    "l=[\"name\\n\",\"address\\n\"]\n",
    "f.writelines(l)"
   ]
  },
  {
   "cell_type": "code",
   "execution_count": 27,
   "metadata": {},
   "outputs": [
    {
     "name": "stdout",
     "output_type": "stream",
     "text": [
      "is the data have been created or not\n"
     ]
    }
   ],
   "source": [
    "f=open(\"shaheen.txt\",\"w\")\n",
    "list=['shaheen\\n','alam\\n','vaishnavi\\n',\"adarsh\\n\"]\n",
    "f.writelines(list)\n",
    "print(\"is the data have been created or not\")\n"
   ]
  },
  {
   "cell_type": "code",
   "execution_count": 29,
   "metadata": {},
   "outputs": [
    {
     "data": {
      "text/plain": [
       "'shaheen\\nalam\\nvaishnavi\\nadarsh\\n'"
      ]
     },
     "execution_count": 29,
     "metadata": {},
     "output_type": "execute_result"
    }
   ],
   "source": [
    "f1=open(\"shaheen.txt\",'r')\n",
    "f1.read()"
   ]
  },
  {
   "cell_type": "markdown",
   "metadata": {},
   "source": [
    "# reading operation from text file\n",
    "1) read()-to read the data from the file<br/>\n",
    "2) read(n)-how many charactor we want to read<br/>\n",
    "3) readline()- to read only one line<br/>\n",
    "4) readlines()-to read all the lines"
   ]
  },
  {
   "cell_type": "markdown",
   "metadata": {},
   "source": []
  },
  {
   "cell_type": "code",
   "execution_count": 49,
   "metadata": {},
   "outputs": [
    {
     "name": "stdout",
     "output_type": "stream",
     "text": [
      "shaheen/nalam\\nvaishnavi\\nadarsh\\nshaheen\n",
      "alam\n",
      "vaishnavi\n",
      "adarsh\n",
      "shaheen\n",
      "alam\n",
      "\n"
     ]
    }
   ],
   "source": [
    "f1=open(\"adarsh.txt\",'r')\n",
    "print(f1.read())"
   ]
  },
  {
   "cell_type": "code",
   "execution_count": 50,
   "metadata": {},
   "outputs": [
    {
     "name": "stdout",
     "output_type": "stream",
     "text": [
      "new operation \n"
     ]
    }
   ],
   "source": [
    "print(\"new operation\",f1.read(5))"
   ]
  },
  {
   "cell_type": "code",
   "execution_count": 51,
   "metadata": {},
   "outputs": [
    {
     "name": "stdout",
     "output_type": "stream",
     "text": [
      "new operation \n"
     ]
    }
   ],
   "source": [
    "print(\"new operation\",f1.readline())\n"
   ]
  },
  {
   "cell_type": "code",
   "execution_count": 52,
   "metadata": {},
   "outputs": [
    {
     "name": "stdout",
     "output_type": "stream",
     "text": [
      "new operation []\n"
     ]
    }
   ],
   "source": [
    "print(\"new operation\",f1.readlines())"
   ]
  },
  {
   "cell_type": "code",
   "execution_count": null,
   "metadata": {},
   "outputs": [],
   "source": []
  }
 ],
 "metadata": {
  "kernelspec": {
   "display_name": "Python 3",
   "language": "python",
   "name": "python3"
  },
  "language_info": {
   "codemirror_mode": {
    "name": "ipython",
    "version": 3
   },
   "file_extension": ".py",
   "mimetype": "text/x-python",
   "name": "python",
   "nbconvert_exporter": "python",
   "pygments_lexer": "ipython3",
   "version": "3.10.11"
  }
 },
 "nbformat": 4,
 "nbformat_minor": 2
}
